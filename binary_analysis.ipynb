{
 "cells": [
  {
   "cell_type": "code",
   "execution_count": 1,
   "metadata": {
    "collapsed": true
   },
   "outputs": [],
   "source": [
    "import numpy as np\n",
    "import matplotlib.pyplot as plt\n",
    "from linear_models import LinearBinaryClassifier, LinearOneVsAllClassifier\n",
    "%matplotlib inline"
   ]
  },
  {
   "cell_type": "code",
   "execution_count": 2,
   "metadata": {
    "collapsed": true
   },
   "outputs": [],
   "source": [
    "folders = ['oracle', 'randomAscent', 'greedyAscent', 'gradientDescent']"
   ]
  },
  {
   "cell_type": "code",
   "execution_count": 3,
   "metadata": {},
   "outputs": [],
   "source": [
    "loss_histories = []\n",
    "max_acc_histories = []\n",
    "\n",
    "for folder in folders:\n",
    "    lh = np.load('binary_experiments/binary-'+folder+\"-1-17/loss_history.npy\")\n",
    "    loss_histories.append(lh)\n",
    "    ma = np.load('binary_experiments/binary-'+folder+\"-1-17/max_acc_history.npy\")\n",
    "    max_acc_histories.append(ma)"
   ]
  },
  {
   "cell_type": "code",
   "execution_count": 4,
   "metadata": {},
   "outputs": [],
   "source": [
    "data_path = \"binary_data_2\"\n",
    "models = []\n",
    "exp_type = \"binary\"\n",
    "num_classifiers = 5\n",
    "alpha = .5\n",
    "\n",
    "X_exp = np.load(data_path + \"/\" + \"X_exp.npy\")\n",
    "Y_exp = np.load(data_path + \"/\" + \"Y_exp.npy\")\n",
    "\n",
    "for i in xrange(num_classifiers):\n",
    "    weights = np.load(data_path + \"/\" + \"weights_{}.npy\".format(i))\n",
    "    bias = np.load(data_path + \"/\" + \"bias_{}.npy\".format(i))\n",
    "    if exp_type == \"binary\":\n",
    "        model = LinearBinaryClassifier(weights, bias)\n",
    "    else:\n",
    "        model = LinearOneVsAllClassifier(10, weights, bias)\n",
    "    models.append(model)"
   ]
  },
  {
   "cell_type": "code",
   "execution_count": 5,
   "metadata": {},
   "outputs": [],
   "source": [
    "ensemble_weights = sum([1.0 / num_classifiers * model.weights for model in models ])\n",
    "ensemble_bias = sum([1.0 / num_classifiers * model.bias for model in models ])"
   ]
  },
  {
   "cell_type": "code",
   "execution_count": 19,
   "metadata": {},
   "outputs": [
    {
     "data": {
      "text/plain": [
       "0.5"
      ]
     },
     "execution_count": 19,
     "metadata": {},
     "output_type": "execute_result"
    }
   ],
   "source": [
    "alpha"
   ]
  },
  {
   "cell_type": "code",
   "execution_count": 6,
   "metadata": {},
   "outputs": [],
   "source": [
    "ensemble_model = LinearBinaryClassifier(ensemble_weights, ensemble_bias)"
   ]
  },
  {
   "cell_type": "code",
   "execution_count": 7,
   "metadata": {},
   "outputs": [
    {
     "data": {
      "text/plain": [
       "1.0"
      ]
     },
     "execution_count": 7,
     "metadata": {},
     "output_type": "execute_result"
    }
   ],
   "source": [
    "ensemble_model.evaluate(X_exp, Y_exp)"
   ]
  },
  {
   "cell_type": "code",
   "execution_count": 8,
   "metadata": {},
   "outputs": [],
   "source": [
    "def normalize(noise, alpha):\n",
    "    for i in range(noise.shape[0]):\n",
    "        noise[i] = noise[i] / np.linalg.norm(noise[i]) * alpha\n",
    "    return noise\n",
    "\n",
    "noise_ensemble =  -1 * ensemble_model.gradient(X_exp, Y_exp)\n",
    "noise_ensemble = normalize(noise_ensemble, alpha)\n",
    "\n",
    "individual_noise = [-1 * model.gradient(X_exp, Y_exp) for model in models]\n",
    "individual_noise = [normalize(noise, alpha) for noise in individual_noise]"
   ]
  },
  {
   "cell_type": "code",
   "execution_count": 9,
   "metadata": {},
   "outputs": [],
   "source": [
    "max_model = [max([model.evaluate(X_exp + noise, Y_exp) for model in models]) for noise in individual_noise]"
   ]
  },
  {
   "cell_type": "code",
   "execution_count": 10,
   "metadata": {},
   "outputs": [
    {
     "data": {
      "text/plain": [
       "0.91"
      ]
     },
     "execution_count": 10,
     "metadata": {},
     "output_type": "execute_result"
    }
   ],
   "source": [
    "min(max_model)"
   ]
  },
  {
   "cell_type": "code",
   "execution_count": 11,
   "metadata": {},
   "outputs": [],
   "source": [
    "ensemble_res_max = max([model.evaluate(X_exp + noise_ensemble, Y_exp) for model in models])\n",
    "ensemble_res_mean = np.mean([model.evaluate(X_exp + noise_ensemble, Y_exp) for model in models])"
   ]
  },
  {
   "cell_type": "code",
   "execution_count": 13,
   "metadata": {},
   "outputs": [
    {
     "data": {
      "text/plain": [
       "(0.71, 0.588)"
      ]
     },
     "execution_count": 13,
     "metadata": {},
     "output_type": "execute_result"
    }
   ],
   "source": [
    "ensemble_res_max, ensemble_res_mean"
   ]
  },
  {
   "cell_type": "code",
   "execution_count": null,
   "metadata": {},
   "outputs": [],
   "source": [
    "best_model_trend"
   ]
  },
  {
   "cell_type": "code",
   "execution_count": null,
   "metadata": {},
   "outputs": [],
   "source": [
    "ensemble_trend = []\n",
    "best_model_trend = []\n",
    "\n",
    "for a in np.linspace(0,1,11):\n",
    "    noise_ensemble =  -1 * ensemble_model.gradient(X_exp, Y_exp)\n",
    "    noise_ensemble = normalize(noise_ensemble, a)\n",
    "\n",
    "    individual_noise = [-1 * model.gradient(X_exp, Y_exp) for model in models]\n",
    "    individual_noise = [normalize(noise, a) for noise in individual_noise]\n",
    "    \n",
    "    ensemble_trend.append(max([model.evaluate(X_exp + noise_ensemble, Y_exp) for model in models]))\n",
    "    best_model_trend.append(min([max([model.evaluate(X_exp + noise, Y_exp) for model in models]) \n",
    "                             for noise in individual_noise]))"
   ]
  },
  {
   "cell_type": "code",
   "execution_count": null,
   "metadata": {},
   "outputs": [],
   "source": [
    "display_folders = [\"oracle\", 'random ascent', 'greedy ascent', 'reverse hinge loss']\n",
    "colors = [\"blue\", \"green\", \"red\", \"cyan\"]\n",
    "for i, ma in enumerate(max_acc_histories):\n",
    "    plt.plot(range(100), ma, color=colors[i])\n",
    "plt.plot(range(100), [ensemble_trend[5]] * 100, linestyle=\"--\", color=\"purple\")\n",
    "plt.plot(range(100), [best_model_trend[5]] * 100, linestyle=\"--\", color=\"black\")\n",
    "# plt.legend(display_folders + [\"ensemble baseline\"], loc=\"right\", bbox_to_anchor=(1,.55), fontsize=8)\n",
    "plt.title(\"Universal Noise Linear Binary Classifiers\")\n",
    "plt.ylabel(\"Max Accuracy\")\n",
    "plt.xlabel(\"MWU Round\")"
   ]
  },
  {
   "cell_type": "code",
   "execution_count": null,
   "metadata": {},
   "outputs": [],
   "source": [
    "max_acc_histories[0][-1]"
   ]
  },
  {
   "cell_type": "code",
   "execution_count": null,
   "metadata": {},
   "outputs": [],
   "source": [
    "findAlphaEquivalent(ensemble_model, X_exp, Y_exp, .5, .3944)"
   ]
  },
  {
   "cell_type": "code",
   "execution_count": null,
   "metadata": {},
   "outputs": [],
   "source": [
    "for i in range(noise.shape[0]):\n",
    "        noise[i] = noise[i] / np.linalg.norm(noise[i]) * .70\n",
    "print max([model.evaluate(X_exp + noise, Y_exp) for model in models])\n",
    "    "
   ]
  },
  {
   "cell_type": "code",
   "execution_count": null,
   "metadata": {},
   "outputs": [],
   "source": [
    "loss_histories = []\n",
    "max_acc_histories = []\n",
    "results = []\n",
    "\n",
    "for folder in folders:\n",
    "    noise_res = []\n",
    "    for x in [\"0.1\", \"0.2\", \"0.3\", \"0.4\", \"0.6\", \"0.7\", \"0.8\", \"0.9\", \"1.0\"]:\n",
    "        ma = np.load('binary_experiments/binary-untargeted-'+folder+\"-{}\".format(x)+\"-2-3/acc_history.npy\")\n",
    "        noise_res.append(ma[-1])\n",
    "    results.append(noise_res)\n"
   ]
  },
  {
   "cell_type": "code",
   "execution_count": 17,
   "metadata": {},
   "outputs": [],
   "source": [
    "oracle_noise = np.load(\"binary_experiments/binary-oracle-1-17/noise.npy\")"
   ]
  },
  {
   "cell_type": "code",
   "execution_count": 22,
   "metadata": {},
   "outputs": [],
   "source": [
    "oracle_res = [[model.evaluate(X_exp + noise, Y_exp) for model in models]for noise in oracle_noise]"
   ]
  },
  {
   "cell_type": "code",
   "execution_count": 33,
   "metadata": {},
   "outputs": [],
   "source": [
    "oracle_max = []\n",
    "oracle_mean = []\n",
    "\n",
    "oracle_max.append(max(oracle_res[0]))\n",
    "oracle_mean.append(np.mean(oracle_res[0]))\n",
    "\n",
    "for i in range(1,100):\n",
    "    res = np.mean(oracle_res[:i], axis=0)\n",
    "    oracle_max.append(max(res))\n",
    "    oracle_mean.append(np.mean(res))\n",
    "\n",
    "# oracle_max = [max(res) for res in oracle_res]\n",
    "# oracle_mean = [np.mean(res) for res in oracle_res]"
   ]
  },
  {
   "cell_type": "code",
   "execution_count": 31,
   "metadata": {},
   "outputs": [
    {
     "data": {
      "text/plain": [
       "99"
      ]
     },
     "execution_count": 31,
     "metadata": {},
     "output_type": "execute_result"
    }
   ],
   "source": [
    "len(oracle_max)"
   ]
  },
  {
   "cell_type": "code",
   "execution_count": 38,
   "metadata": {},
   "outputs": [
    {
     "data": {
      "text/plain": [
       "<matplotlib.text.Text at 0x115b07510>"
      ]
     },
     "execution_count": 38,
     "metadata": {},
     "output_type": "execute_result"
    },
    {
     "data": {
      "image/png": "[encoded data removed]",
      "text/plain": [
       "<matplotlib.figure.Figure at 0x11602af90>"
      ]
     },
     "metadata": {},
     "output_type": "display_data"
    }
   ],
   "source": [
    "plt.plot(range(100), oracle_max, color=\"blue\")\n",
    "plt.plot(range(100), oracle_mean, color=\"orange\")\n",
    "plt.plot(range(100), [ensemble_res_max] * 100, linestyle=\"--\", color=\"purple\")\n",
    "plt.plot(range(100), [ensemble_res_mean] * 100, linestyle=\"--\", color=\"cyan\")\n",
    "plt.legend([\"oracle max\", \"oracle mean\",  \"ensemble max baseline\", \"ensemble mean baseline\"], \n",
    "           loc=\"right\", bbox_to_anchor=(1,.35), fontsize=12)\n",
    "plt.title(\"Universal Noise Robustly Optimizes Over Classifiers\")\n",
    "plt.ylabel(\"Accuracy\")\n",
    "plt.xlabel(\"MWU Round\")"
   ]
  },
  {
   "cell_type": "code",
   "execution_count": 16,
   "metadata": {},
   "outputs": [
    {
     "name": "stdout",
     "output_type": "stream",
     "text": [
      "[0.43477590117135406, 0.4582386101432921, 0.475618084629745, 0.39186102034775977, 0.442891299327648, 0.49255772797026565, 0.4543159551720607, 0.41114541649063996, 0.4617969850543519, 0.4445885381545436]\n",
      "[0.5166776372835891, 0.5663273339364996, 0.5880519358366438, 0.39186102034775977, 0.5854060383838471, 0.5286035904903984, 0.548127270961174, 0.41114541649063996, 0.5390372321968449, 0.5761560385051284]\n",
      "[0.5166776372835891, 0.6220352938492841, 0.6917032998444179, 0.39186102034775977, 0.5854060383838471, 0.60672424785705, 0.6639999927007275, 0.41114541649063996, 0.5390372321968449, 0.6845723270449785]\n",
      "[0.5166776372835891, 0.6220352938492841, 0.7848473556633335, 0.39186102034775977, 0.5854060383838471, 0.60672424785705, 0.6639999927007275, 0.41114541649063996, 0.5390372321968449, 0.7767813996592966]\n",
      "[0.5166776372835891, 0.6220352938492841, 0.7848473556633335, 0.39186102034775977, 0.5854060383838471, 0.60672424785705, 0.6639999927007275, 0.41114541649063996, 0.5390372321968449, 0.7767813996592966]\n",
      "[0.5166776372835891, 0.6220352938492841, 0.7848473556633335, 0.39186102034775977, 0.5854060383838471, 0.60672424785705, 0.6639999927007275, 0.41114541649063996, 0.5390372321968449, 0.7767813996592966]\n"
     ]
    }
   ],
   "source": [
    "for noise in oracle_noise[4:]:\n",
    "    print[np.linalg.norm(v) for v in noise][:10]"
   ]
  },
  {
   "cell_type": "code",
   "execution_count": null,
   "metadata": {},
   "outputs": [],
   "source": [
    "oracle_noise = [X_exp + noise for noise in oracle_noise]"
   ]
  },
  {
   "cell_type": "code",
   "execution_count": null,
   "metadata": {},
   "outputs": [],
   "source": [
    "[np.linalg.norm(n[0]) for n in oracle_noise ]"
   ]
  },
  {
   "cell_type": "code",
   "execution_count": null,
   "metadata": {},
   "outputs": [],
   "source": [
    "plt.imshow(oracle_noise[9][0].reshape(28,28), cmap=\"gray\")"
   ]
  },
  {
   "cell_type": "code",
   "execution_count": null,
   "metadata": {},
   "outputs": [],
   "source": [
    "results[0][:4]"
   ]
  },
  {
   "cell_type": "code",
   "execution_count": null,
   "metadata": {},
   "outputs": [],
   "source": [
    "for i in xrange(len(folders)):\n",
    "    results[i] = results[i][:4] + [max_acc_histories[i][-1]] + results[i][4:]"
   ]
  },
  {
   "cell_type": "code",
   "execution_count": null,
   "metadata": {},
   "outputs": [],
   "source": [
    "np.linspace(0,1,11)"
   ]
  },
  {
   "cell_type": "code",
   "execution_count": null,
   "metadata": {},
   "outputs": [],
   "source": [
    "display_folders = [\"oracle\", 'random ascent', 'greedy ascent', 'reverse hinge loss']\n",
    "colors = [\"blue\", \"green\", \"red\", \"cyan\"]\n",
    "for i, r in enumerate(results):\n",
    "    plt.plot(np.linspace(0, 1, 11), [1.0] + r, color=colors[i])\n",
    "plt.plot(np.linspace(0, 1, 11), ensemble_trend, linestyle=\"--\", color=\"purple\")\n",
    "plt.plot(np.linspace(0, 1, 11), best_model_trend, linestyle=\"--\", color=\"black\")\n",
    "plt.legend(display_folders + [\"ensemble baseline\", \"individual baseline\"], loc=\"right\", \n",
    "           bbox_to_anchor=(.43,.26), fontsize=10)\n",
    "plt.title(\"Untargeted Noise Linear Binary Classifiers\")\n",
    "plt.ylabel(\"Max Accuracy\")\n",
    "plt.xlabel(\"Noise Budget\")"
   ]
  },
  {
   "cell_type": "code",
   "execution_count": null,
   "metadata": {
    "collapsed": true
   },
   "outputs": [],
   "source": []
  },
  {
   "cell_type": "code",
   "execution_count": null,
   "metadata": {
    "collapsed": true
   },
   "outputs": [],
   "source": [
    "def findAlphaEquivalent(ensemble_model, X_exp, Y_exp, alpha, target):\n",
    "    noise =  -1 * ensemble_model.gradient(X_exp, Y_exp)\n",
    "    for i in range(noise.shape[0]):\n",
    "        noise[i] = noise[i] / np.linalg.norm(noise[i]) * alpha\n",
    "\n",
    "    res = max([model.evaluate(X_exp + noise, Y_exp) for model in models])\n",
    "    \n",
    "    if res > target:\n",
    "        return findAlphaEquivalent(ensemble_model, X_exp, Y_exp, alpha + .01, target)\n",
    "    else:\n",
    "        return alpha\n",
    "    "
   ]
  }
 ],
 "metadata": {
  "anaconda-cloud": {},
  "kernelspec": {
   "display_name": "Python 2",
   "language": "python",
   "name": "python2"
  },
  "language_info": {
   "codemirror_mode": {
    "name": "ipython",
    "version": 2
   },
   "file_extension": ".py",
   "mimetype": "text/x-python",
   "name": "python",
   "nbconvert_exporter": "python",
   "pygments_lexer": "ipython2",
   "version": "2.7.11"
  }
 },
 "nbformat": 4,
 "nbformat_minor": 1
}
